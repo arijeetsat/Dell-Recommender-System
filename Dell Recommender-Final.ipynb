{
 "cells": [
  {
   "cell_type": "code",
   "execution_count": 1,
   "metadata": {},
   "outputs": [],
   "source": [
    "#data preprocessing\n",
    "\n",
    "#importing the libraries\n",
    "from IPython.display import display\n",
    "\n",
    "import numpy as np\n",
    "import matplotlib.pyplot as plt\n",
    "import pandas as pd\n",
    "import sklearn\n",
    "from sklearn import model_selection\n",
    "from sklearn.metrics import classification_report\n",
    "from sklearn.metrics import confusion_matrix\n",
    "from sklearn.metrics import accuracy_score\n",
    "from sklearn.linear_model import LogisticRegression\n",
    "from sklearn.tree import DecisionTreeClassifier\n",
    "from sklearn.neighbors import KNeighborsClassifier\n",
    "from sklearn.discriminant_analysis import LinearDiscriminantAnalysis\n",
    "from sklearn.naive_bayes import GaussianNB\n",
    "from sklearn.svm import SVC\n",
    "from sklearn.metrics import confusion_matrix\n",
    "import warnings; warnings.simplefilter('ignore')"
   ]
  },
  {
   "cell_type": "code",
   "execution_count": 2,
   "metadata": {},
   "outputs": [
    {
     "data": {
      "text/html": [
       "<div>\n",
       "<style scoped>\n",
       "    .dataframe tbody tr th:only-of-type {\n",
       "        vertical-align: middle;\n",
       "    }\n",
       "\n",
       "    .dataframe tbody tr th {\n",
       "        vertical-align: top;\n",
       "    }\n",
       "\n",
       "    .dataframe thead th {\n",
       "        text-align: right;\n",
       "    }\n",
       "</style>\n",
       "<table border=\"1\" class=\"dataframe\">\n",
       "  <thead>\n",
       "    <tr style=\"text-align: right;\">\n",
       "      <th></th>\n",
       "      <th>0</th>\n",
       "      <th>1</th>\n",
       "      <th>2</th>\n",
       "      <th>3</th>\n",
       "      <th>4</th>\n",
       "      <th>5</th>\n",
       "      <th>6</th>\n",
       "      <th>7</th>\n",
       "      <th>8</th>\n",
       "    </tr>\n",
       "  </thead>\n",
       "  <tbody>\n",
       "    <tr>\n",
       "      <th>0</th>\n",
       "      <td>1</td>\n",
       "      <td>15.3</td>\n",
       "      <td>C</td>\n",
       "      <td>8</td>\n",
       "      <td>R</td>\n",
       "      <td>WI</td>\n",
       "      <td>1.5</td>\n",
       "      <td>50000</td>\n",
       "      <td>Programmer</td>\n",
       "    </tr>\n",
       "  </tbody>\n",
       "</table>\n",
       "</div>"
      ],
      "text/plain": [
       "   0     1  2  3  4   5    6      7           8\n",
       "0  1  15.3  C  8  R  WI  1.5  50000  Programmer"
      ]
     },
     "metadata": {},
     "output_type": "display_data"
    },
    {
     "data": {
      "text/plain": [
       "(994, 10)"
      ]
     },
     "metadata": {},
     "output_type": "display_data"
    }
   ],
   "source": [
    "testset = pd.read_csv('./Test.csv',header= None)\n",
    "myrow= testset\n",
    "display((myrow))\n",
    "\n",
    "dataset = pd.read_csv('./Dataset.csv',header= None)\n",
    "display(dataset.shape)\n",
    "\n",
    "frames = [dataset, myrow]\n",
    "dataset = pd.concat(frames)\n"
   ]
  },
  {
   "cell_type": "code",
   "execution_count": 3,
   "metadata": {},
   "outputs": [
    {
     "data": {
      "text/html": [
       "<div>\n",
       "<style scoped>\n",
       "    .dataframe tbody tr th:only-of-type {\n",
       "        vertical-align: middle;\n",
       "    }\n",
       "\n",
       "    .dataframe tbody tr th {\n",
       "        vertical-align: top;\n",
       "    }\n",
       "\n",
       "    .dataframe thead th {\n",
       "        text-align: right;\n",
       "    }\n",
       "</style>\n",
       "<table border=\"1\" class=\"dataframe\">\n",
       "  <thead>\n",
       "    <tr style=\"text-align: right;\">\n",
       "      <th></th>\n",
       "      <th>0</th>\n",
       "      <th>1</th>\n",
       "      <th>2</th>\n",
       "      <th>3</th>\n",
       "      <th>4</th>\n",
       "      <th>5</th>\n",
       "      <th>6</th>\n",
       "      <th>7</th>\n",
       "      <th>8</th>\n",
       "    </tr>\n",
       "  </thead>\n",
       "  <tbody>\n",
       "    <tr>\n",
       "      <th>1</th>\n",
       "      <td>1</td>\n",
       "      <td>11.6</td>\n",
       "      <td>A</td>\n",
       "      <td>2</td>\n",
       "      <td>P</td>\n",
       "      <td>WI</td>\n",
       "      <td>0.98</td>\n",
       "      <td>14880</td>\n",
       "      <td>Home User</td>\n",
       "    </tr>\n",
       "    <tr>\n",
       "      <th>2</th>\n",
       "      <td>1</td>\n",
       "      <td>15.6</td>\n",
       "      <td>A</td>\n",
       "      <td>2</td>\n",
       "      <td>P</td>\n",
       "      <td>CH</td>\n",
       "      <td>2.19</td>\n",
       "      <td>15430</td>\n",
       "      <td>Home User</td>\n",
       "    </tr>\n",
       "    <tr>\n",
       "      <th>3</th>\n",
       "      <td>1</td>\n",
       "      <td>14</td>\n",
       "      <td>A</td>\n",
       "      <td>2</td>\n",
       "      <td>Q</td>\n",
       "      <td>WI</td>\n",
       "      <td>1.65</td>\n",
       "      <td>15430</td>\n",
       "      <td>Home User</td>\n",
       "    </tr>\n",
       "    <tr>\n",
       "      <th>4</th>\n",
       "      <td>1</td>\n",
       "      <td>14</td>\n",
       "      <td>A</td>\n",
       "      <td>4</td>\n",
       "      <td>P</td>\n",
       "      <td>WI</td>\n",
       "      <td>1.22</td>\n",
       "      <td>15733</td>\n",
       "      <td>Home User</td>\n",
       "    </tr>\n",
       "    <tr>\n",
       "      <th>5</th>\n",
       "      <td>1</td>\n",
       "      <td>15.6</td>\n",
       "      <td>A</td>\n",
       "      <td>4</td>\n",
       "      <td>P</td>\n",
       "      <td>LI</td>\n",
       "      <td>2</td>\n",
       "      <td>17369</td>\n",
       "      <td>Home User</td>\n",
       "    </tr>\n",
       "    <tr>\n",
       "      <th>6</th>\n",
       "      <td>3</td>\n",
       "      <td>14</td>\n",
       "      <td>A</td>\n",
       "      <td>4</td>\n",
       "      <td>P</td>\n",
       "      <td>WI</td>\n",
       "      <td>1.44</td>\n",
       "      <td>17757</td>\n",
       "      <td>Home User</td>\n",
       "    </tr>\n",
       "    <tr>\n",
       "      <th>7</th>\n",
       "      <td>1</td>\n",
       "      <td>14</td>\n",
       "      <td>A</td>\n",
       "      <td>2</td>\n",
       "      <td>P</td>\n",
       "      <td>WI</td>\n",
       "      <td>1.4</td>\n",
       "      <td>18532</td>\n",
       "      <td>Home User</td>\n",
       "    </tr>\n",
       "    <tr>\n",
       "      <th>8</th>\n",
       "      <td>1</td>\n",
       "      <td>15.6</td>\n",
       "      <td>A</td>\n",
       "      <td>4</td>\n",
       "      <td>P</td>\n",
       "      <td>WI</td>\n",
       "      <td>1.89</td>\n",
       "      <td>18997</td>\n",
       "      <td>Home User</td>\n",
       "    </tr>\n",
       "    <tr>\n",
       "      <th>9</th>\n",
       "      <td>1</td>\n",
       "      <td>11.6</td>\n",
       "      <td>A</td>\n",
       "      <td>2</td>\n",
       "      <td>P</td>\n",
       "      <td>WI</td>\n",
       "      <td>1.1</td>\n",
       "      <td>18997</td>\n",
       "      <td>Home User</td>\n",
       "    </tr>\n",
       "    <tr>\n",
       "      <th>10</th>\n",
       "      <td>1</td>\n",
       "      <td>15.6</td>\n",
       "      <td>A</td>\n",
       "      <td>4</td>\n",
       "      <td>P</td>\n",
       "      <td>WI</td>\n",
       "      <td>1.89</td>\n",
       "      <td>19300</td>\n",
       "      <td>Home User</td>\n",
       "    </tr>\n",
       "  </tbody>\n",
       "</table>\n",
       "</div>"
      ],
      "text/plain": [
       "    0     1  2  3  4   5     6      7          8\n",
       "1   1  11.6  A  2  P  WI  0.98  14880  Home User\n",
       "2   1  15.6  A  2  P  CH  2.19  15430  Home User\n",
       "3   1    14  A  2  Q  WI  1.65  15430  Home User\n",
       "4   1    14  A  4  P  WI  1.22  15733  Home User\n",
       "5   1  15.6  A  4  P  LI     2  17369  Home User\n",
       "6   3    14  A  4  P  WI  1.44  17757  Home User\n",
       "7   1    14  A  2  P  WI   1.4  18532  Home User\n",
       "8   1  15.6  A  4  P  WI  1.89  18997  Home User\n",
       "9   1  11.6  A  2  P  WI   1.1  18997  Home User\n",
       "10  1  15.6  A  4  P  WI  1.89  19300  Home User"
      ]
     },
     "metadata": {},
     "output_type": "display_data"
    },
    {
     "data": {
      "text/plain": [
       "5"
      ]
     },
     "metadata": {},
     "output_type": "display_data"
    },
    {
     "data": {
      "text/plain": [
       "{'A', 'B', 'C', 'D'}"
      ]
     },
     "metadata": {},
     "output_type": "display_data"
    },
    {
     "data": {
      "text/plain": [
       "4"
      ]
     },
     "metadata": {},
     "output_type": "display_data"
    },
    {
     "data": {
      "text/plain": [
       "{'P', 'Q', 'R', 'S', 'T'}"
      ]
     },
     "metadata": {},
     "output_type": "display_data"
    },
    {
     "data": {
      "text/plain": [
       "5"
      ]
     },
     "metadata": {},
     "output_type": "display_data"
    },
    {
     "data": {
      "text/plain": [
       "{'CH', 'LI', 'MA', 'NO', 'WI'}"
      ]
     },
     "metadata": {},
     "output_type": "display_data"
    },
    {
     "data": {
      "text/plain": [
       "5"
      ]
     },
     "metadata": {},
     "output_type": "display_data"
    },
    {
     "data": {
      "text/plain": [
       "162"
      ]
     },
     "metadata": {},
     "output_type": "display_data"
    },
    {
     "data": {
      "text/plain": [
       "636"
      ]
     },
     "metadata": {},
     "output_type": "display_data"
    },
    {
     "data": {
      "text/plain": [
       "{'Data Scientist', 'Executive', 'Gamer', 'Home User', 'Programmer', 'Student'}"
      ]
     },
     "metadata": {},
     "output_type": "display_data"
    },
    {
     "data": {
      "text/plain": [
       "6"
      ]
     },
     "metadata": {},
     "output_type": "display_data"
    },
    {
     "data": {
      "text/plain": [
       "{0, 1, 2, 3}"
      ]
     },
     "metadata": {},
     "output_type": "display_data"
    },
    {
     "data": {
      "text/plain": [
       "{0, 1, 2, 3, 4}"
      ]
     },
     "metadata": {},
     "output_type": "display_data"
    },
    {
     "data": {
      "text/plain": [
       "{0, 1, 2, 3, 4}"
      ]
     },
     "metadata": {},
     "output_type": "display_data"
    },
    {
     "data": {
      "text/plain": [
       "{0, 1, 2, 3, 4, 5}"
      ]
     },
     "metadata": {},
     "output_type": "display_data"
    }
   ],
   "source": [
    "pd.options.display.max_columns=1000\n",
    "pd.options.display.max_rows=1000\n",
    "#importing the dataset\n",
    "dataset = dataset.iloc[1:, :]\n",
    "y= dataset.iloc[:-1,-1:]\n",
    "\n",
    "dataset = dataset.iloc[:, :-1]\n",
    "\n",
    "\n",
    "#display(dataset.head(5))\n",
    "display(dataset.head(n=10))\n",
    "\n",
    "#display(set(dataset[0]))\n",
    "display(len(set(dataset[0])))\n",
    "\n",
    "#display(set(dataset[1]))\n",
    "#display(len(set(dataset[1])))\n",
    "\n",
    "display(set(dataset[2]))\n",
    "display(len(set(dataset[2])))\n",
    "\n",
    "#display(set(dataset[3]))\n",
    "#display(len(set(dataset[3])))\n",
    "\n",
    "display(set(dataset[4]))\n",
    "display(len(set(dataset[4])))\n",
    "\n",
    "display(set(dataset[5]))\n",
    "display(len(set(dataset[5])))\n",
    "\n",
    "#display(set(dataset[6]))\n",
    "display(len(set(dataset[6])))\n",
    "\n",
    "\n",
    "#display(set(dataset[7]))\n",
    "display(len(set(dataset[7])))\n",
    "\n",
    "\n",
    "display(set(dataset[8]))\n",
    "display(len(set(dataset[8])))\n",
    "\n",
    "\n",
    "#display(set(dataset[9]))\n",
    "#display(len(set(dataset[9])))\n",
    "\n",
    "\n",
    "x = dataset.values\n",
    "#encoding categorical data\n",
    "from sklearn.preprocessing import LabelEncoder, OneHotEncoder\n",
    "\n",
    "#first applying label encoding to convert strings to number.\n",
    "#display(x[:,2])\n",
    "labelencoder_x_1 = LabelEncoder()\n",
    "labelencoder_x_2 = LabelEncoder()\n",
    "labelencoder_x_3 = LabelEncoder()\n",
    "labelencoder_x_4 = LabelEncoder()\n",
    "x[:, 2] = labelencoder_x_1.fit_transform(x[:, 2])\n",
    "x[:, 4] = labelencoder_x_2.fit_transform(x[:, 4])\n",
    "x[:, 5] = labelencoder_x_3.fit_transform(x[:, 5])\n",
    "x[:, 8] = labelencoder_x_4.fit_transform(x[:, 8])\n",
    "\n",
    "display(set(x[:,2]))\n",
    "display(set(x[:,4])) \n",
    "display(set(x[:,5]))\n",
    "display(set(x[:,8]))"
   ]
  },
  {
   "cell_type": "code",
   "execution_count": 4,
   "metadata": {
    "scrolled": true
   },
   "outputs": [],
   "source": [
    "#display(dataset.describe(include='all'))# Now applying one-hot-encoding to map the numbers to appropiate weights.\n",
    "onehotencoder_1 = OneHotEncoder(categorical_features = [2])\n",
    "x = onehotencoder_1.fit_transform(x).toarray()\n",
    "\n",
    "df=pd.DataFrame(x)\n",
    "#display(df.head(n=100))\n",
    "#display(df.describe())"
   ]
  },
  {
   "cell_type": "code",
   "execution_count": 5,
   "metadata": {},
   "outputs": [],
   "source": [
    "onehotencoder_2 = OneHotEncoder(categorical_features = [7])\n",
    "x = onehotencoder_2.fit_transform(x).toarray()\n",
    "\n",
    "#df=pd.DataFrame(x)\n",
    "#display(df.describe())"
   ]
  },
  {
   "cell_type": "code",
   "execution_count": 6,
   "metadata": {},
   "outputs": [],
   "source": [
    "onehotencoder_3 = OneHotEncoder(categorical_features = [12])\n",
    "x = onehotencoder_3.fit_transform(x).toarray()\n",
    "#df=pd.DataFrame(x)\n",
    "#display(df.describe())"
   ]
  },
  {
   "cell_type": "code",
   "execution_count": 7,
   "metadata": {},
   "outputs": [],
   "source": [
    "onehotencoder_4 = OneHotEncoder(categorical_features = [19])\n",
    "x = onehotencoder_4.fit_transform(x).toarray()\n",
    "#df=pd.DataFrame(x)\n",
    "#display(df.describe())"
   ]
  },
  {
   "cell_type": "code",
   "execution_count": 8,
   "metadata": {},
   "outputs": [],
   "source": [
    "#Run This Cell Only for Training Purpose\n",
    "\n",
    "dataset_train= x"
   ]
  },
  {
   "cell_type": "code",
   "execution_count": 9,
   "metadata": {
    "scrolled": true
   },
   "outputs": [
    {
     "data": {
      "text/plain": [
       "(993, 25)"
      ]
     },
     "metadata": {},
     "output_type": "display_data"
    },
    {
     "data": {
      "text/plain": [
       "(993, 1)"
      ]
     },
     "metadata": {},
     "output_type": "display_data"
    },
    {
     "data": {
      "text/plain": [
       "(983, 25)"
      ]
     },
     "metadata": {},
     "output_type": "display_data"
    },
    {
     "data": {
      "text/plain": [
       "(983, 1)"
      ]
     },
     "metadata": {},
     "output_type": "display_data"
    },
    {
     "data": {
      "text/plain": [
       "(10, 25)"
      ]
     },
     "metadata": {},
     "output_type": "display_data"
    },
    {
     "data": {
      "text/plain": [
       "(10, 25)"
      ]
     },
     "metadata": {},
     "output_type": "display_data"
    },
    {
     "data": {
      "text/html": [
       "<div>\n",
       "<style scoped>\n",
       "    .dataframe tbody tr th:only-of-type {\n",
       "        vertical-align: middle;\n",
       "    }\n",
       "\n",
       "    .dataframe tbody tr th {\n",
       "        vertical-align: top;\n",
       "    }\n",
       "\n",
       "    .dataframe thead th {\n",
       "        text-align: right;\n",
       "    }\n",
       "</style>\n",
       "<table border=\"1\" class=\"dataframe\">\n",
       "  <thead>\n",
       "    <tr style=\"text-align: right;\">\n",
       "      <th></th>\n",
       "      <th>0</th>\n",
       "      <th>1</th>\n",
       "      <th>2</th>\n",
       "      <th>3</th>\n",
       "      <th>4</th>\n",
       "      <th>5</th>\n",
       "      <th>6</th>\n",
       "      <th>7</th>\n",
       "      <th>8</th>\n",
       "      <th>9</th>\n",
       "      <th>10</th>\n",
       "      <th>11</th>\n",
       "      <th>12</th>\n",
       "      <th>13</th>\n",
       "      <th>14</th>\n",
       "      <th>15</th>\n",
       "      <th>16</th>\n",
       "      <th>17</th>\n",
       "      <th>18</th>\n",
       "      <th>19</th>\n",
       "      <th>20</th>\n",
       "      <th>21</th>\n",
       "      <th>22</th>\n",
       "      <th>23</th>\n",
       "      <th>24</th>\n",
       "    </tr>\n",
       "  </thead>\n",
       "  <tbody>\n",
       "    <tr>\n",
       "      <th>0</th>\n",
       "      <td>2.338184</td>\n",
       "      <td>-0.476672</td>\n",
       "      <td>-0.48629</td>\n",
       "      <td>-0.449123</td>\n",
       "      <td>-0.492677</td>\n",
       "      <td>-0.343971</td>\n",
       "      <td>-0.147748</td>\n",
       "      <td>-0.226576</td>\n",
       "      <td>-0.132659</td>\n",
       "      <td>-0.238724</td>\n",
       "      <td>0.405823</td>\n",
       "      <td>-0.305675</td>\n",
       "      <td>-0.424349</td>\n",
       "      <td>1.212373</td>\n",
       "      <td>-0.585573</td>\n",
       "      <td>-0.336527</td>\n",
       "      <td>-0.479883</td>\n",
       "      <td>-0.710887</td>\n",
       "      <td>1.449464</td>\n",
       "      <td>-0.427682</td>\n",
       "      <td>2.185059</td>\n",
       "      <td>0.384385</td>\n",
       "      <td>-0.102937</td>\n",
       "      <td>-0.034110</td>\n",
       "      <td>-0.378187</td>\n",
       "    </tr>\n",
       "    <tr>\n",
       "      <th>1</th>\n",
       "      <td>-0.427682</td>\n",
       "      <td>-0.476672</td>\n",
       "      <td>-0.48629</td>\n",
       "      <td>-0.449123</td>\n",
       "      <td>2.029727</td>\n",
       "      <td>-0.343971</td>\n",
       "      <td>-0.147748</td>\n",
       "      <td>-0.226576</td>\n",
       "      <td>-0.132659</td>\n",
       "      <td>-0.238724</td>\n",
       "      <td>0.405823</td>\n",
       "      <td>-0.305675</td>\n",
       "      <td>-0.424349</td>\n",
       "      <td>-0.824828</td>\n",
       "      <td>1.707728</td>\n",
       "      <td>-0.336527</td>\n",
       "      <td>-0.479883</td>\n",
       "      <td>-0.710887</td>\n",
       "      <td>1.449464</td>\n",
       "      <td>-0.427682</td>\n",
       "      <td>-0.506561</td>\n",
       "      <td>-0.760616</td>\n",
       "      <td>-0.102937</td>\n",
       "      <td>-1.101059</td>\n",
       "      <td>0.759008</td>\n",
       "    </tr>\n",
       "    <tr>\n",
       "      <th>2</th>\n",
       "      <td>-0.427682</td>\n",
       "      <td>-0.476672</td>\n",
       "      <td>-0.48629</td>\n",
       "      <td>-0.449123</td>\n",
       "      <td>-0.492677</td>\n",
       "      <td>2.907219</td>\n",
       "      <td>-0.147748</td>\n",
       "      <td>-0.226576</td>\n",
       "      <td>-0.132659</td>\n",
       "      <td>-0.238724</td>\n",
       "      <td>0.405823</td>\n",
       "      <td>-0.305675</td>\n",
       "      <td>-0.424349</td>\n",
       "      <td>1.212373</td>\n",
       "      <td>-0.585573</td>\n",
       "      <td>-0.336527</td>\n",
       "      <td>2.083841</td>\n",
       "      <td>-0.710887</td>\n",
       "      <td>-0.689910</td>\n",
       "      <td>-0.427682</td>\n",
       "      <td>2.185059</td>\n",
       "      <td>0.384385</td>\n",
       "      <td>-0.912436</td>\n",
       "      <td>0.545092</td>\n",
       "      <td>-1.013603</td>\n",
       "    </tr>\n",
       "    <tr>\n",
       "      <th>3</th>\n",
       "      <td>-0.427682</td>\n",
       "      <td>-0.476672</td>\n",
       "      <td>-0.48629</td>\n",
       "      <td>-0.449123</td>\n",
       "      <td>-0.492677</td>\n",
       "      <td>2.907219</td>\n",
       "      <td>-0.147748</td>\n",
       "      <td>-0.226576</td>\n",
       "      <td>-0.132659</td>\n",
       "      <td>-0.238724</td>\n",
       "      <td>0.405823</td>\n",
       "      <td>-0.305675</td>\n",
       "      <td>-0.424349</td>\n",
       "      <td>1.212373</td>\n",
       "      <td>-0.585573</td>\n",
       "      <td>-0.336527</td>\n",
       "      <td>2.083841</td>\n",
       "      <td>-0.710887</td>\n",
       "      <td>-0.689910</td>\n",
       "      <td>-0.427682</td>\n",
       "      <td>-0.506561</td>\n",
       "      <td>0.384385</td>\n",
       "      <td>-0.912436</td>\n",
       "      <td>-0.277984</td>\n",
       "      <td>-0.973258</td>\n",
       "    </tr>\n",
       "    <tr>\n",
       "      <th>4</th>\n",
       "      <td>2.338184</td>\n",
       "      <td>-0.476672</td>\n",
       "      <td>-0.48629</td>\n",
       "      <td>-0.449123</td>\n",
       "      <td>-0.492677</td>\n",
       "      <td>-0.343971</td>\n",
       "      <td>-0.147748</td>\n",
       "      <td>-0.226576</td>\n",
       "      <td>-0.132659</td>\n",
       "      <td>-0.238724</td>\n",
       "      <td>0.405823</td>\n",
       "      <td>-0.305675</td>\n",
       "      <td>-0.424349</td>\n",
       "      <td>1.212373</td>\n",
       "      <td>-0.585573</td>\n",
       "      <td>-0.336527</td>\n",
       "      <td>2.083841</td>\n",
       "      <td>-0.710887</td>\n",
       "      <td>-0.689910</td>\n",
       "      <td>-0.427682</td>\n",
       "      <td>-0.506561</td>\n",
       "      <td>-1.261553</td>\n",
       "      <td>-0.912436</td>\n",
       "      <td>-0.598068</td>\n",
       "      <td>-0.386784</td>\n",
       "    </tr>\n",
       "  </tbody>\n",
       "</table>\n",
       "</div>"
      ],
      "text/plain": [
       "         0         1        2         3         4         5         6   \\\n",
       "0  2.338184 -0.476672 -0.48629 -0.449123 -0.492677 -0.343971 -0.147748   \n",
       "1 -0.427682 -0.476672 -0.48629 -0.449123  2.029727 -0.343971 -0.147748   \n",
       "2 -0.427682 -0.476672 -0.48629 -0.449123 -0.492677  2.907219 -0.147748   \n",
       "3 -0.427682 -0.476672 -0.48629 -0.449123 -0.492677  2.907219 -0.147748   \n",
       "4  2.338184 -0.476672 -0.48629 -0.449123 -0.492677 -0.343971 -0.147748   \n",
       "\n",
       "         7         8         9         10        11        12        13  \\\n",
       "0 -0.226576 -0.132659 -0.238724  0.405823 -0.305675 -0.424349  1.212373   \n",
       "1 -0.226576 -0.132659 -0.238724  0.405823 -0.305675 -0.424349 -0.824828   \n",
       "2 -0.226576 -0.132659 -0.238724  0.405823 -0.305675 -0.424349  1.212373   \n",
       "3 -0.226576 -0.132659 -0.238724  0.405823 -0.305675 -0.424349  1.212373   \n",
       "4 -0.226576 -0.132659 -0.238724  0.405823 -0.305675 -0.424349  1.212373   \n",
       "\n",
       "         14        15        16        17        18        19        20  \\\n",
       "0 -0.585573 -0.336527 -0.479883 -0.710887  1.449464 -0.427682  2.185059   \n",
       "1  1.707728 -0.336527 -0.479883 -0.710887  1.449464 -0.427682 -0.506561   \n",
       "2 -0.585573 -0.336527  2.083841 -0.710887 -0.689910 -0.427682  2.185059   \n",
       "3 -0.585573 -0.336527  2.083841 -0.710887 -0.689910 -0.427682 -0.506561   \n",
       "4 -0.585573 -0.336527  2.083841 -0.710887 -0.689910 -0.427682 -0.506561   \n",
       "\n",
       "         21        22        23        24  \n",
       "0  0.384385 -0.102937 -0.034110 -0.378187  \n",
       "1 -0.760616 -0.102937 -1.101059  0.759008  \n",
       "2  0.384385 -0.912436  0.545092 -1.013603  \n",
       "3  0.384385 -0.912436 -0.277984 -0.973258  \n",
       "4 -1.261553 -0.912436 -0.598068 -0.386784  "
      ]
     },
     "metadata": {},
     "output_type": "display_data"
    },
    {
     "name": "stdout",
     "output_type": "stream",
     "text": [
      "\n",
      "For Logistic Regression The Performance result is: \n",
      "\n",
      "the Accuracy is: 1.0\n",
      "Recall is : 1.0\n",
      "False Positive rate: 0.0\n",
      "Precision is: 1.0\n",
      "F-measure is: 1.0\n",
      "Entropy is: -0.0\n",
      "\n",
      "For Linear Discriminant Analysis The Performance result is: \n",
      "\n",
      "the Accuracy is: nan\n",
      "Recall is : nan\n",
      "False Positive rate: nan\n",
      "Precision is: nan\n",
      "F-measure is: nan\n",
      "Entropy is: nan\n",
      "\n",
      "For Decison Tree The Performance result is: \n",
      "\n",
      "the Accuracy is: 1.0\n",
      "Recall is : 1.0\n",
      "False Positive rate: 0.0\n",
      "Precision is: 1.0\n",
      "F-measure is: 1.0\n",
      "Entropy is: -0.0\n",
      "\n",
      "For Guassian Naive Bayes The Performance result is: \n",
      "\n",
      "the Accuracy is: 1.0\n",
      "Recall is : 1.0\n",
      "False Positive rate: 0.0\n",
      "Precision is: 1.0\n",
      "F-measure is: 1.0\n",
      "Entropy is: -0.0\n",
      "\n",
      "For SVM The Performance result is: \n",
      "\n",
      "the Accuracy is: 1.0\n",
      "Recall is : 1.0\n",
      "False Positive rate: 0.0\n",
      "Precision is: 1.0\n",
      "F-measure is: 1.0\n",
      "Entropy is: -0.0\n"
     ]
    },
    {
     "data": {
      "text/plain": [
       "<bound method DataFrame.transform of       9\n",
       "821  12\n",
       "723  11\n",
       "32    1\n",
       "549   9\n",
       "968  14\n",
       "962  14\n",
       "893  13\n",
       "232   5\n",
       "712  11\n",
       "842  12>"
      ]
     },
     "metadata": {},
     "output_type": "display_data"
    },
    {
     "data": {
      "text/plain": [
       "array(['12', '11', '1', '9', '14', '13', '13', '5', '11', '12'],\n",
       "      dtype=object)"
      ]
     },
     "metadata": {},
     "output_type": "display_data"
    }
   ],
   "source": [
    "#Run This Cell Only for Training Purpose\n",
    "\n",
    "dataset_train1 = dataset_train[:-1]\n",
    "x_train =  dataset_train1\n",
    "y_train = y\n",
    "display(x_train.shape)\n",
    "display(y_train.shape)\n",
    "\n",
    "\n",
    "from sklearn.model_selection import train_test_split\n",
    "x_train, x_test, y_train, y_test = train_test_split(dataset_train1, y, test_size = 0.01, random_state = 0)\n",
    "#spliutting in 70% and 30%\n",
    "\n",
    "display(x_train.shape)\n",
    "display(y_train.shape)\n",
    "display(x_test.shape)\n",
    "display(x_test.shape)\n",
    "\n",
    "#feature scaling\n",
    "from sklearn.preprocessing import StandardScaler\n",
    "sc_x = StandardScaler()\n",
    "x_train = sc_x.fit_transform(x_train)\n",
    "x_test = sc_x.transform(x_test)\n",
    "\n",
    "df2 = pd.DataFrame(x_train)\n",
    "display(df2.head())\n",
    "\n",
    "\n",
    "models = []\n",
    "models.append(('Logistic Regression', LogisticRegression()))\n",
    "models.append(('Linear Discriminant Analysis', LinearDiscriminantAnalysis()))\n",
    "#models.append(('K-Nearest Neighbour ', KNeighborsClassifier()))\n",
    "models.append(('Decison Tree', DecisionTreeClassifier()))\n",
    "models.append(('Guassian Naive Bayes', GaussianNB()))\n",
    "models.append(('SVM', SVC()))\n",
    "\n",
    "for name,model in models:\n",
    "    \n",
    "    # Fitting Naive Bayes to the Training set\n",
    "    classifier = model\n",
    "    classifier.fit(x_train, y_train)\n",
    "\n",
    "    # Predicting the Test set results\n",
    "    y_pred = classifier.predict(x_test)\n",
    "\n",
    "    # Making the Confusion Matrix\n",
    "    from sklearn.metrics import confusion_matrix\n",
    "    cm = confusion_matrix(y_test, y_pred)\n",
    "\n",
    "    # Applying k-Fold Cross Validation\n",
    "    from sklearn.model_selection import cross_val_score\n",
    "    accuracies = cross_val_score(estimator = classifier, X = x_train, y = y_train, cv = 10)\n",
    "    accuracies.mean()\n",
    "    accuracies.std()\n",
    "    \n",
    "    print()\n",
    "    print(\"For {0} The Performance result is: \".format(name))\n",
    "    print()\n",
    "\n",
    "    #the performance of the classification model\n",
    "    print(\"the Accuracy is: \"+ str((cm[0,0]+cm[1,1])/(cm[0,0]+cm[0,1]+cm[1,0]+cm[1,1])))\n",
    "    recall = cm[1,1]/(cm[0,1]+cm[1,1])\n",
    "    print(\"Recall is : \"+ str(recall))\n",
    "    print(\"False Positive rate: \"+ str(cm[1,0]/(cm[0,0]+cm[1,0])))\n",
    "    precision = cm[1,1]/(cm[1,0]+cm[1,1])\n",
    "    print(\"Precision is: \"+ str(precision))\n",
    "    print(\"F-measure is: \"+ str(2*((precision*recall)/(precision+recall))))\n",
    "    from math import log\n",
    "    print(\"Entropy is: \"+ str(-precision*log(precision)))\n",
    "\n",
    "\n",
    "display(y_test.transform)\n",
    "display(y_pred)"
   ]
  },
  {
   "cell_type": "code",
   "execution_count": 12,
   "metadata": {},
   "outputs": [
    {
     "data": {
      "text/plain": [
       "(1, 25)"
      ]
     },
     "metadata": {},
     "output_type": "display_data"
    },
    {
     "data": {
      "text/plain": [
       "(993, 1)"
      ]
     },
     "metadata": {},
     "output_type": "display_data"
    },
    {
     "data": {
      "text/plain": [
       "(993, 25)"
      ]
     },
     "metadata": {},
     "output_type": "display_data"
    },
    {
     "data": {
      "text/html": [
       "<div>\n",
       "<style scoped>\n",
       "    .dataframe tbody tr th:only-of-type {\n",
       "        vertical-align: middle;\n",
       "    }\n",
       "\n",
       "    .dataframe tbody tr th {\n",
       "        vertical-align: top;\n",
       "    }\n",
       "\n",
       "    .dataframe thead th {\n",
       "        text-align: right;\n",
       "    }\n",
       "</style>\n",
       "<table border=\"1\" class=\"dataframe\">\n",
       "  <thead>\n",
       "    <tr style=\"text-align: right;\">\n",
       "      <th></th>\n",
       "      <th>0</th>\n",
       "      <th>1</th>\n",
       "      <th>2</th>\n",
       "      <th>3</th>\n",
       "      <th>4</th>\n",
       "      <th>5</th>\n",
       "      <th>6</th>\n",
       "      <th>7</th>\n",
       "      <th>8</th>\n",
       "      <th>9</th>\n",
       "      <th>10</th>\n",
       "      <th>11</th>\n",
       "      <th>12</th>\n",
       "      <th>13</th>\n",
       "      <th>14</th>\n",
       "      <th>15</th>\n",
       "      <th>16</th>\n",
       "      <th>17</th>\n",
       "      <th>18</th>\n",
       "      <th>19</th>\n",
       "      <th>20</th>\n",
       "      <th>21</th>\n",
       "      <th>22</th>\n",
       "      <th>23</th>\n",
       "      <th>24</th>\n",
       "    </tr>\n",
       "  </thead>\n",
       "  <tbody>\n",
       "    <tr>\n",
       "      <th>0</th>\n",
       "      <td>-0.425132</td>\n",
       "      <td>-0.478498</td>\n",
       "      <td>-0.489592</td>\n",
       "      <td>2.232023</td>\n",
       "      <td>-0.492751</td>\n",
       "      <td>-0.342031</td>\n",
       "      <td>-0.146986</td>\n",
       "      <td>-0.225374</td>\n",
       "      <td>-0.131977</td>\n",
       "      <td>-0.237451</td>\n",
       "      <td>0.403440</td>\n",
       "      <td>3.268387</td>\n",
       "      <td>-0.423480</td>\n",
       "      <td>-0.819584</td>\n",
       "      <td>-0.589368</td>\n",
       "      <td>-0.338346</td>\n",
       "      <td>2.089873</td>\n",
       "      <td>-0.711919</td>\n",
       "      <td>-0.687963</td>\n",
       "      <td>-0.430075</td>\n",
       "      <td>-0.504914</td>\n",
       "      <td>-2.475315</td>\n",
       "      <td>-1.320118</td>\n",
       "      <td>-1.609623</td>\n",
       "      <td>-1.328892</td>\n",
       "    </tr>\n",
       "    <tr>\n",
       "      <th>1</th>\n",
       "      <td>-0.425132</td>\n",
       "      <td>-0.478498</td>\n",
       "      <td>-0.489592</td>\n",
       "      <td>2.232023</td>\n",
       "      <td>-0.492751</td>\n",
       "      <td>-0.342031</td>\n",
       "      <td>6.803361</td>\n",
       "      <td>-0.225374</td>\n",
       "      <td>-0.131977</td>\n",
       "      <td>-0.237451</td>\n",
       "      <td>-2.478686</td>\n",
       "      <td>3.268387</td>\n",
       "      <td>-0.423480</td>\n",
       "      <td>-0.819584</td>\n",
       "      <td>-0.589368</td>\n",
       "      <td>-0.338346</td>\n",
       "      <td>2.089873</td>\n",
       "      <td>-0.711919</td>\n",
       "      <td>-0.687963</td>\n",
       "      <td>-0.430075</td>\n",
       "      <td>-0.504914</td>\n",
       "      <td>0.387054</td>\n",
       "      <td>-1.320118</td>\n",
       "      <td>0.225949</td>\n",
       "      <td>-1.318780</td>\n",
       "    </tr>\n",
       "    <tr>\n",
       "      <th>2</th>\n",
       "      <td>-0.425132</td>\n",
       "      <td>-0.478498</td>\n",
       "      <td>-0.489592</td>\n",
       "      <td>2.232023</td>\n",
       "      <td>-0.492751</td>\n",
       "      <td>-0.342031</td>\n",
       "      <td>-0.146986</td>\n",
       "      <td>-0.225374</td>\n",
       "      <td>-0.131977</td>\n",
       "      <td>-0.237451</td>\n",
       "      <td>0.403440</td>\n",
       "      <td>-0.305961</td>\n",
       "      <td>2.361389</td>\n",
       "      <td>-0.819584</td>\n",
       "      <td>-0.589368</td>\n",
       "      <td>-0.338346</td>\n",
       "      <td>2.089873</td>\n",
       "      <td>-0.711919</td>\n",
       "      <td>-0.687963</td>\n",
       "      <td>-0.430075</td>\n",
       "      <td>-0.504914</td>\n",
       "      <td>-0.757894</td>\n",
       "      <td>-1.320118</td>\n",
       "      <td>-0.593232</td>\n",
       "      <td>-1.318780</td>\n",
       "    </tr>\n",
       "    <tr>\n",
       "      <th>3</th>\n",
       "      <td>-0.425132</td>\n",
       "      <td>-0.478498</td>\n",
       "      <td>-0.489592</td>\n",
       "      <td>2.232023</td>\n",
       "      <td>-0.492751</td>\n",
       "      <td>-0.342031</td>\n",
       "      <td>-0.146986</td>\n",
       "      <td>-0.225374</td>\n",
       "      <td>-0.131977</td>\n",
       "      <td>-0.237451</td>\n",
       "      <td>0.403440</td>\n",
       "      <td>3.268387</td>\n",
       "      <td>-0.423480</td>\n",
       "      <td>-0.819584</td>\n",
       "      <td>-0.589368</td>\n",
       "      <td>-0.338346</td>\n",
       "      <td>2.089873</td>\n",
       "      <td>-0.711919</td>\n",
       "      <td>-0.687963</td>\n",
       "      <td>-0.430075</td>\n",
       "      <td>-0.504914</td>\n",
       "      <td>-0.757894</td>\n",
       "      <td>-0.914148</td>\n",
       "      <td>-1.245542</td>\n",
       "      <td>-1.313209</td>\n",
       "    </tr>\n",
       "    <tr>\n",
       "      <th>4</th>\n",
       "      <td>-0.425132</td>\n",
       "      <td>-0.478498</td>\n",
       "      <td>-0.489592</td>\n",
       "      <td>2.232023</td>\n",
       "      <td>-0.492751</td>\n",
       "      <td>-0.342031</td>\n",
       "      <td>-0.146986</td>\n",
       "      <td>4.437060</td>\n",
       "      <td>-0.131977</td>\n",
       "      <td>-0.237451</td>\n",
       "      <td>-2.478686</td>\n",
       "      <td>3.268387</td>\n",
       "      <td>-0.423480</td>\n",
       "      <td>-0.819584</td>\n",
       "      <td>-0.589368</td>\n",
       "      <td>-0.338346</td>\n",
       "      <td>2.089873</td>\n",
       "      <td>-0.711919</td>\n",
       "      <td>-0.687963</td>\n",
       "      <td>-0.430075</td>\n",
       "      <td>-0.504914</td>\n",
       "      <td>0.387054</td>\n",
       "      <td>-0.914148</td>\n",
       "      <td>-0.062281</td>\n",
       "      <td>-1.283130</td>\n",
       "    </tr>\n",
       "  </tbody>\n",
       "</table>\n",
       "</div>"
      ],
      "text/plain": [
       "         0         1         2         3         4         5         6   \\\n",
       "0 -0.425132 -0.478498 -0.489592  2.232023 -0.492751 -0.342031 -0.146986   \n",
       "1 -0.425132 -0.478498 -0.489592  2.232023 -0.492751 -0.342031  6.803361   \n",
       "2 -0.425132 -0.478498 -0.489592  2.232023 -0.492751 -0.342031 -0.146986   \n",
       "3 -0.425132 -0.478498 -0.489592  2.232023 -0.492751 -0.342031 -0.146986   \n",
       "4 -0.425132 -0.478498 -0.489592  2.232023 -0.492751 -0.342031 -0.146986   \n",
       "\n",
       "         7         8         9         10        11        12        13  \\\n",
       "0 -0.225374 -0.131977 -0.237451  0.403440  3.268387 -0.423480 -0.819584   \n",
       "1 -0.225374 -0.131977 -0.237451 -2.478686  3.268387 -0.423480 -0.819584   \n",
       "2 -0.225374 -0.131977 -0.237451  0.403440 -0.305961  2.361389 -0.819584   \n",
       "3 -0.225374 -0.131977 -0.237451  0.403440  3.268387 -0.423480 -0.819584   \n",
       "4  4.437060 -0.131977 -0.237451 -2.478686  3.268387 -0.423480 -0.819584   \n",
       "\n",
       "         14        15        16        17        18        19        20  \\\n",
       "0 -0.589368 -0.338346  2.089873 -0.711919 -0.687963 -0.430075 -0.504914   \n",
       "1 -0.589368 -0.338346  2.089873 -0.711919 -0.687963 -0.430075 -0.504914   \n",
       "2 -0.589368 -0.338346  2.089873 -0.711919 -0.687963 -0.430075 -0.504914   \n",
       "3 -0.589368 -0.338346  2.089873 -0.711919 -0.687963 -0.430075 -0.504914   \n",
       "4 -0.589368 -0.338346  2.089873 -0.711919 -0.687963 -0.430075 -0.504914   \n",
       "\n",
       "         21        22        23        24  \n",
       "0 -2.475315 -1.320118 -1.609623 -1.328892  \n",
       "1  0.387054 -1.320118  0.225949 -1.318780  \n",
       "2 -0.757894 -1.320118 -0.593232 -1.318780  \n",
       "3 -0.757894 -0.914148 -1.245542 -1.313209  \n",
       "4  0.387054 -0.914148 -0.062281 -1.283130  "
      ]
     },
     "metadata": {},
     "output_type": "display_data"
    },
    {
     "name": "stdout",
     "output_type": "stream",
     "text": [
      "Using the Logistic Regression model : \n"
     ]
    },
    {
     "data": {
      "text/plain": [
       "'The Predicted Category Laptop is : '"
      ]
     },
     "metadata": {},
     "output_type": "display_data"
    },
    {
     "data": {
      "text/plain": [
       "array(['6'], dtype=object)"
      ]
     },
     "metadata": {},
     "output_type": "display_data"
    },
    {
     "name": "stdout",
     "output_type": "stream",
     "text": [
      "\n",
      "Using the Linear Discriminant Analysis model : \n"
     ]
    },
    {
     "data": {
      "text/plain": [
       "'The Predicted Category Laptop is : '"
      ]
     },
     "metadata": {},
     "output_type": "display_data"
    },
    {
     "data": {
      "text/plain": [
       "array(['12'], dtype='<U2')"
      ]
     },
     "metadata": {},
     "output_type": "display_data"
    },
    {
     "name": "stdout",
     "output_type": "stream",
     "text": [
      "\n",
      "Using the Decison Tree model : \n"
     ]
    },
    {
     "data": {
      "text/plain": [
       "'The Predicted Category Laptop is : '"
      ]
     },
     "metadata": {},
     "output_type": "display_data"
    },
    {
     "data": {
      "text/plain": [
       "array(['6'], dtype=object)"
      ]
     },
     "metadata": {},
     "output_type": "display_data"
    },
    {
     "name": "stdout",
     "output_type": "stream",
     "text": [
      "\n",
      "Using the Guassian Naive Bayes model : \n"
     ]
    },
    {
     "data": {
      "text/plain": [
       "'The Predicted Category Laptop is : '"
      ]
     },
     "metadata": {},
     "output_type": "display_data"
    },
    {
     "data": {
      "text/plain": [
       "array(['6'], dtype='<U2')"
      ]
     },
     "metadata": {},
     "output_type": "display_data"
    },
    {
     "name": "stdout",
     "output_type": "stream",
     "text": [
      "\n",
      "Using the SVM model : \n"
     ]
    },
    {
     "data": {
      "text/plain": [
       "'The Predicted Category Laptop is : '"
      ]
     },
     "metadata": {},
     "output_type": "display_data"
    },
    {
     "data": {
      "text/plain": [
       "array(['6'], dtype=object)"
      ]
     },
     "metadata": {},
     "output_type": "display_data"
    },
    {
     "name": "stdout",
     "output_type": "stream",
     "text": [
      "\n"
     ]
    }
   ],
   "source": [
    "# Run this cell, while giving a test input for prediction\n",
    "\n",
    "x_test= dataset_train[-1:,:]\n",
    "display(x_test.shape)\n",
    "x_train= dataset_train[:-1,:]\n",
    "y_train = y\n",
    "display(y_train.shape)\n",
    "display(x_train.shape)\n",
    "\n",
    "from sklearn.model_selection import train_test_split\n",
    "\n",
    "#feature scaling\n",
    "from sklearn.preprocessing import StandardScaler\n",
    "sc_x = StandardScaler()\n",
    "x_train = sc_x.fit_transform(x_train)\n",
    "x_test = sc_x.transform(x_test)\n",
    "\n",
    "df2 = pd.DataFrame(x_train)\n",
    "display(df2.head())\n",
    "\n",
    "models = []\n",
    "models.append(('Logistic Regression', LogisticRegression()))\n",
    "models.append(('Linear Discriminant Analysis', LinearDiscriminantAnalysis()))\n",
    "#models.append(('K-Nearest Neighbour ', KNeighborsClassifier()))\n",
    "models.append(('Decison Tree', DecisionTreeClassifier()))\n",
    "models.append(('Guassian Naive Bayes', GaussianNB()))\n",
    "models.append(('SVM', SVC()))\n",
    "\n",
    "for name,model in models:\n",
    "\n",
    "\n",
    "    classifier = model\n",
    "    classifier.fit(x_train, y_train)\n",
    "\n",
    "    # Predicting the Test set results\n",
    "    y_pred = classifier.predict(x_test)\n",
    "    print(\"Using the {0} model : \".format(name))\n",
    "\n",
    "    display(\"The Predicted Category Laptop is : \")\n",
    "    display(y_pred)\n",
    "    print()"
   ]
  },
  {
   "cell_type": "code",
   "execution_count": null,
   "metadata": {},
   "outputs": [],
   "source": []
  },
  {
   "cell_type": "code",
   "execution_count": null,
   "metadata": {},
   "outputs": [],
   "source": []
  }
 ],
 "metadata": {
  "kernelspec": {
   "display_name": "Python 3",
   "language": "python",
   "name": "python3"
  },
  "language_info": {
   "codemirror_mode": {
    "name": "ipython",
    "version": 3
   },
   "file_extension": ".py",
   "mimetype": "text/x-python",
   "name": "python",
   "nbconvert_exporter": "python",
   "pygments_lexer": "ipython3",
   "version": "3.6.8"
  }
 },
 "nbformat": 4,
 "nbformat_minor": 2
}
